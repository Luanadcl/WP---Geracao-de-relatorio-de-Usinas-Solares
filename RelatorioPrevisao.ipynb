{
 "cells": [
  {
   "cell_type": "markdown",
   "id": "0fae56f6",
   "metadata": {},
   "source": [
    "# Painel Fotovoltaico\n",
    "### Autora: Luana Dias Costa Lucas <br> Empresa : WP SOLUÇÕES INDUSTRIAIS INTELIGENTES LTDA\n"
   ]
  },
  {
   "cell_type": "markdown",
   "id": "91b3c306",
   "metadata": {},
   "source": [
    "## RELATÓRIO PREVISÃO\n",
    "\n",
    "&emsp;Para adquir os dados climaticos para os proximos dias foi feita uma chamada de API fornecida pelo site https://openweathermap.org/appid\n",
    "\n",
    "&emsp;Idealmente, para a comparação os dados da previsão do tempo e adquirir a previsao de geração de energia, seria necessário comparar os dados de radiação solar, porem essa informação faz parte de um pacote pago fornecido pelo site comentado anteriormente. Por isso foi escolhido comparar a hora do dia e a temperatura da previsão com o histórico de dados para tentar realizar essa previsão de energia.\n",
    "\n",
    "&emsp;Por mais que não seja correto, funcionou como um meio de demonstrar o funcionamento do codigo e a implementação da lógica"
   ]
  },
  {
   "cell_type": "code",
   "execution_count": 3,
   "metadata": {},
   "outputs": [],
   "source": [
    "#Bibliotecas\n",
    "from ipynb.fs.full.Helper import *\n",
    "from datetime import date, datetime, timedelta\n",
    "from fpdf import FPDF\n",
    "import os\n",
    "import pandas as pd\n",
    "import numpy as np\n",
    "\n",
    "#generationData = pd.read_csv('archive/Plant_1_Generation_Data.csv')\n",
    "#weatherData = pd.read_csv('archive/Plant_1_Weather_Sensor_Data.csv')\n",
    "#plant = '1'"
   ]
  },
  {
   "cell_type": "code",
   "execution_count": null,
   "metadata": {},
   "outputs": [],
   "source": [
    "# Escolha da central solar\n",
    "plant = whichPlant()\n",
    "        \n",
    "if plant == '1':\n",
    "    path = 'archive/Plant_1/'\n",
    "else:\n",
    "    path = 'archive/Plant_2/'\n",
    "generationData = pd.read_csv(path + 'Generation_Data.csv')\n",
    "weatherData = pd.read_csv(path + 'Weather_Sensor_Data.csv')"
   ]
  },
  {
   "cell_type": "code",
   "execution_count": 5,
   "metadata": {},
   "outputs": [],
   "source": [
    "# Consolidar os dados das duas bases (geracao de energia e informacoes do tempo) em uma unica tabela\n",
    "generationData_sort = generationData.drop(columns = ['PLANT_ID', 'SOURCE_KEY', 'DAILY_YIELD', 'TOTAL_YIELD']).reset_index().drop(columns = ['index'])\n",
    "x = len(generationData_sort)\n",
    "\n",
    "time = []\n",
    "temp = []\n",
    "for i in range(x):\n",
    "    date_time = datetime.strptime(generationData_sort['DATE_TIME'][i], '%d-%m-%Y %H:%M')\n",
    "    time.append(date_time.strftime(\"%H:%M\"))\n",
    "    if str(date_time) in weatherData['DATE_TIME'].values:\n",
    "        tempAmb = weatherData[weatherData['DATE_TIME']==str(date_time)].iloc[0]['AMBIENT_TEMPERATURE']\n",
    "        temp.append(tempAmb)\n",
    "    else:\n",
    "        temp.append('NaN')\n",
    "\n",
    "generationData_sort['AMBIENT_TEMPERATURE'] = temp\n",
    "generationData_sort['TIME'] = time\n",
    "generationData_Weather = generationData_sort\n"
   ]
  },
  {
   "cell_type": "code",
   "execution_count": 6,
   "metadata": {},
   "outputs": [],
   "source": [
    "# Chamada da API para obter a previsao do tempo para os proximos 5 dias, em um intervalo de 3h\n",
    "dataForecast = forecast()\n",
    "x = len(dataForecast)\n",
    "\n",
    "dc_power = []\t\n",
    "ac_power = []\n",
    "daily_yield = [] \n",
    "data = date.today() - timedelta(days = 1)\n",
    "\n",
    "# Tentativa de prever a geracao de energia considerando apenas a temp e a hora do dia\n",
    "for i in range(x):\n",
    "    date_time = datetime.strptime(dataForecast['data'][i], '%Y-%m-%d %H:%M:%S')\n",
    "    time = date_time.strftime(\"%H:%M\")\n",
    "    temp = dataForecast['temp'][i]\n",
    "    if time in generationData_Weather['TIME'].values:\n",
    "        sameTime = generationData_Weather[generationData_Weather['TIME'] == time]\n",
    "        sameTemp = sameTime[sameTime['AMBIENT_TEMPERATURE'] >= float(temp)-1]\n",
    "        sameTemp = sameTemp[sameTemp['AMBIENT_TEMPERATURE'] <= float(temp)+3]\n",
    "        sameTemp_Sum = sameTemp.median(numeric_only=True)['DC_POWER']\n",
    "        if np.isnan(sameTemp_Sum):\n",
    "            dc_power.append('0.0')\n",
    "            ac_power.append('0.0')\n",
    "        else:\n",
    "            dc_power.append(sameTemp_Sum)\n",
    "            # Considerando que AC_Power é 90% de DC_Power\n",
    "            ac_power.append(sameTemp_Sum*0.9)\n",
    "    else:\n",
    "        dc_power.append('0.0')\n",
    "        ac_power.append('0.0')\n",
    "\n",
    "dataForecast['DC_POWER (kW/15min)'] = dc_power\n",
    "dataForecast['AC_POWER (kW/15min)'] = ac_power\n",
    "\n",
    "for i in range(x):\n",
    "    onlyData = datetime.strptime(dataForecast['data'][i], '%Y-%m-%d %H:%M:%S').date()\n",
    "    if data != onlyData:\n",
    "        data = onlyData\n",
    "        daily_yield.append('0.0')\n",
    "    else:\n",
    "        media = (float(dataForecast['AC_POWER (kW/15min)'][i-1]) + float(dataForecast['AC_POWER (kW/15min)'][i]))/2\n",
    "        daily_yield.append((media/4) + float(daily_yield[i-1]))\n",
    "\n",
    "dataForecast['DAILY_YIELD (kW/h)'] = daily_yield"
   ]
  },
  {
   "cell_type": "code",
   "execution_count": 21,
   "metadata": {},
   "outputs": [
    {
     "name": "stderr",
     "output_type": "stream",
     "text": [
      "FutureWarning: Dropping of nuisance columns in DataFrame reductions (with 'numeric_only=None') is deprecated; in a future version this will raise TypeError.  Select only valid columns before calling the reduction.\n",
      "FutureWarning: Dropping of nuisance columns in DataFrame reductions (with 'numeric_only=None') is deprecated; in a future version this will raise TypeError.  Select only valid columns before calling the reduction.\n",
      "FutureWarning: Dropping of nuisance columns in DataFrame reductions (with 'numeric_only=None') is deprecated; in a future version this will raise TypeError.  Select only valid columns before calling the reduction.\n",
      "FutureWarning: Dropping of nuisance columns in DataFrame reductions (with 'numeric_only=None') is deprecated; in a future version this will raise TypeError.  Select only valid columns before calling the reduction.\n",
      "FutureWarning: Dropping of nuisance columns in DataFrame reductions (with 'numeric_only=None') is deprecated; in a future version this will raise TypeError.  Select only valid columns before calling the reduction.\n",
      "FutureWarning: Dropping of nuisance columns in DataFrame reductions (with 'numeric_only=None') is deprecated; in a future version this will raise TypeError.  Select only valid columns before calling the reduction.\n"
     ]
    },
    {
     "data": {
      "text/html": [
       "<div>\n",
       "<style scoped>\n",
       "    .dataframe tbody tr th:only-of-type {\n",
       "        vertical-align: middle;\n",
       "    }\n",
       "\n",
       "    .dataframe tbody tr th {\n",
       "        vertical-align: top;\n",
       "    }\n",
       "\n",
       "    .dataframe thead th {\n",
       "        text-align: right;\n",
       "    }\n",
       "</style>\n",
       "<table border=\"1\" class=\"dataframe\">\n",
       "  <thead>\n",
       "    <tr style=\"text-align: right;\">\n",
       "      <th></th>\n",
       "      <th>Data</th>\n",
       "      <th>Media_Temperatura</th>\n",
       "      <th>Geracao_de_Energia_kW_h</th>\n",
       "    </tr>\n",
       "  </thead>\n",
       "  <tbody>\n",
       "    <tr>\n",
       "      <th>0</th>\n",
       "      <td>2023-12-05</td>\n",
       "      <td>20.435</td>\n",
       "      <td>9.161719</td>\n",
       "    </tr>\n",
       "    <tr>\n",
       "      <th>1</th>\n",
       "      <td>2023-12-06</td>\n",
       "      <td>21.560</td>\n",
       "      <td>1546.629911</td>\n",
       "    </tr>\n",
       "    <tr>\n",
       "      <th>2</th>\n",
       "      <td>2023-12-07</td>\n",
       "      <td>22.020</td>\n",
       "      <td>2577.539732</td>\n",
       "    </tr>\n",
       "    <tr>\n",
       "      <th>3</th>\n",
       "      <td>2023-12-08</td>\n",
       "      <td>20.670</td>\n",
       "      <td>1475.276786</td>\n",
       "    </tr>\n",
       "    <tr>\n",
       "      <th>4</th>\n",
       "      <td>2023-12-09</td>\n",
       "      <td>19.485</td>\n",
       "      <td>496.904464</td>\n",
       "    </tr>\n",
       "    <tr>\n",
       "      <th>5</th>\n",
       "      <td>2023-12-10</td>\n",
       "      <td>19.100</td>\n",
       "      <td>0.000000</td>\n",
       "    </tr>\n",
       "  </tbody>\n",
       "</table>\n",
       "</div>"
      ],
      "text/plain": [
       "         Data  Media_Temperatura  Geracao_de_Energia_kW_h\n",
       "0  2023-12-05             20.435                 9.161719\n",
       "1  2023-12-06             21.560              1546.629911\n",
       "2  2023-12-07             22.020              2577.539732\n",
       "3  2023-12-08             20.670              1475.276786\n",
       "4  2023-12-09             19.485               496.904464\n",
       "5  2023-12-10             19.100                 0.000000"
      ]
     },
     "execution_count": 21,
     "metadata": {},
     "output_type": "execute_result"
    }
   ],
   "source": [
    "# Consolidação da previsão \n",
    "x = len(dataForecast)\n",
    "dia = []\n",
    "sumEnergyDaily = []\n",
    "medTemp = []\n",
    "\n",
    "lenStart = 0\n",
    "for i in range(x-1):\n",
    "    dataS = datetime.strptime(dataForecast['data'][lenStart], '%Y-%m-%d %H:%M:%S').date()\n",
    "    dataF = datetime.strptime(dataForecast['data'][i+1], '%Y-%m-%d %H:%M:%S').date()\n",
    "    if dataS != dataF:\n",
    "        dia.append(dataS)\n",
    "        medTemp.append(dataForecast[lenStart:i+1].median()['temp'])\n",
    "        sumEnergyDaily.append(dataForecast.iloc[i]['DAILY_YIELD (kW/h)'])\n",
    "        lenStart = i+1\n",
    "dia.append(dataS)\n",
    "medTemp.append(dataForecast[lenStart:i+2].median()['temp'])\n",
    "sumEnergyDaily.append(float(dataForecast.iloc[i]['DAILY_YIELD (kW/h)']))    \n",
    "\n",
    "previsao = {'Data': dia, 'Media_Temperatura': medTemp, 'Geracao_de_Energia_kW_h': sumEnergyDaily}\n",
    "dfPrevisao = pd.DataFrame(previsao)"
   ]
  },
  {
   "cell_type": "code",
   "execution_count": 20,
   "metadata": {},
   "outputs": [
    {
     "data": {
      "text/plain": [
       "''"
      ]
     },
     "execution_count": 20,
     "metadata": {},
     "output_type": "execute_result"
    }
   ],
   "source": [
    "pdf = FPDF()\n",
    "# Set left margin\n",
    "pdf.set_left_margin(0)\n",
    "pdf.add_page()\n",
    "pdf.set_font('Arial', 'B', 14)\n",
    "\n",
    "## Title\n",
    "nInversores = len(generationData['SOURCE_KEY'].unique())\n",
    "primeiroDia = str(dfPrevisao.iloc[0]['Data'])\n",
    "ultimoDia = str(dfPrevisao.iloc[len(dfPrevisao)-1]['Data'])\n",
    "pdf.multi_cell(0,10,'Previsão de geração de energia para cada um dos ' + str(nInversores) + ' inversores entre os dias ' + primeiroDia + ' e ' + ultimoDia, align='C')\n",
    "pdf.ln(20)\n",
    "pdf.set_font('Arial', '', 10)\n",
    "\n",
    "dfPrevisao_pdf = dfPrevisao\n",
    "\n",
    "spreadsheet_df_to_pdf(pdf, dfPrevisao_pdf, 3, 20, True)\n",
    "\n",
    "dataHoje = date.today().strftime(\"%d%m%Y\")\n",
    "\n",
    "if not os.path.exists('Relatorios/Previsao/Plant' + plant):\n",
    "   os.makedirs('Relatorios/Previsao/Plant' + plant)\n",
    "\n",
    "pdf.output('Relatorios/Previsao/Plant' + plant +'/Previsao para o proximos 5 dias a partir de ' + dataHoje + '.pdf', 'F')\n",
    "\n",
    "print('Relatório de previsão gerado com sucesso!')\n"
   ]
  }
 ],
 "metadata": {
  "kernelspec": {
   "display_name": "Python 3 (ipykernel)",
   "language": "python",
   "name": "python3"
  },
  "language_info": {
   "codemirror_mode": {
    "name": "ipython",
    "version": 3
   },
   "file_extension": ".py",
   "mimetype": "text/x-python",
   "name": "python",
   "nbconvert_exporter": "python",
   "pygments_lexer": "ipython3",
   "version": "3.7.11"
  }
 },
 "nbformat": 4,
 "nbformat_minor": 5
}
