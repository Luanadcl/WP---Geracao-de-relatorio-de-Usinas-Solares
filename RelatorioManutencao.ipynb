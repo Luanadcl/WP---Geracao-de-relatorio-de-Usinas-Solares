{
 "cells": [
  {
   "cell_type": "markdown",
   "id": "0fae56f6",
   "metadata": {},
   "source": [
    "# Painel Fotovoltaico\n",
    "### Autora: Luana Dias Costa Lucas <br> Empresa : WP SOLUÇÕES INDUSTRIAIS INTELIGENTES LTDA\n"
   ]
  },
  {
   "cell_type": "markdown",
   "id": "91b3c306",
   "metadata": {},
   "source": [
    "## RELATÓRIO MANUTENÇÃO\n",
    "\n",
    "Gera um pdf com todos os paineis que precisam de manutenção baseado na data da ultima manutenção e na eficiencia dos inversores"
   ]
  },
  {
   "cell_type": "code",
   "execution_count": 1,
   "id": "839b3f43",
   "metadata": {},
   "outputs": [],
   "source": [
    "#Bibliotecas\n",
    "from ipynb.fs.full.Helper import *\n",
    "from datetime import date, datetime\n",
    "from dateutil.relativedelta import relativedelta\n",
    "from fpdf import FPDF\n",
    "import pandas as pd\n",
    "import os\n",
    "import numpy as np\n",
    "\n",
    "#maintenance = pd.read_csv('/Plant_1_Generation_Data_Maintenance.csv')\n",
    "#generationData = pd.read_csv('/Plant_1_Generation_Data.csv')\n",
    "#plant = '1'"
   ]
  },
  {
   "cell_type": "code",
   "execution_count": 8,
   "metadata": {},
   "outputs": [
    {
     "name": "stdout",
     "output_type": "stream",
     "text": [
      "\n",
      "    Por favor digite 1 ou 2 para escolher uma das 2 centrais solares\n",
      "    \n"
     ]
    }
   ],
   "source": [
    "# Escolha da central solar\n",
    "plant = whichPlant()        \n",
    "if plant == '1':\n",
    "    path = 'archive/Plant_1/'\n",
    "else:\n",
    "    path = 'archive/Plant_2/'\n",
    "maintenance = pd.read_csv(path + 'Generation_Data_Maintenance.csv')\n",
    "generationData = pd.read_csv(path + 'Generation_Data.csv')"
   ]
  },
  {
   "cell_type": "code",
   "execution_count": 9,
   "metadata": {},
   "outputs": [],
   "source": [
    "# Add uma nova coluna com a eficiencia da geracao de energia\n",
    "generationData_sort = generationData.loc[generationData['AC_POWER'] > float(0)]\n",
    "generationData_sort = generationData_sort.sort_values(by=['SOURCE_KEY']).reset_index().drop(columns = ['index', 'PLANT_ID'])\n",
    "\n",
    "x = len(generationData_sort)\n",
    "eff=[]\n",
    "for i in range(x):\n",
    "    eff.append((generationData_sort.iloc[i]['AC_POWER'])/(generationData_sort.iloc[i]['DC_POWER']))\n",
    "\n",
    "generationData_sort['Efficiency'] = eff"
   ]
  },
  {
   "cell_type": "code",
   "execution_count": 10,
   "id": "fd34e389",
   "metadata": {},
   "outputs": [],
   "source": [
    "# Ve se existe a necessidade de marcar uma manutencao preventiva\n",
    "maintenance_prevent = maintenance\n",
    "x = len(maintenance.index)\n",
    "\n",
    "for i in range(x):\n",
    "    lastMaintenance = datetime.strptime(maintenance_prevent['LAST_MAINTENANCE'][i], '%Y-%m-%d').date()\n",
    "    gap = maintenance_prevent['GAP_MONTHS'][i]\n",
    "    if lastMaintenance + relativedelta(months=+gap) <= date.today():\n",
    "      maintenance_prevent.loc[i, 'MAINTENANCE_REQUIRED'] = 'Sim'\n",
    "      maintenance_prevent.loc[i, 'MOTIVE'] = 'Preventiva'\n",
    "    else:\n",
    "      maintenance_prevent.loc[i, 'MAINTENANCE_REQUIRED'] = 'Não'\n",
    "      maintenance_prevent.loc[i, 'MOTIVE'] = np.nan"
   ]
  },
  {
   "cell_type": "code",
   "execution_count": 11,
   "metadata": {},
   "outputs": [],
   "source": [
    "# Confere se precisa de uma manutenção baseado na eficiencia (considerando que uma eficiencia abaixo de 60% é indesejada)\n",
    "maintenance_updated = maintenance_prevent\n",
    "maintenance_needed = generationData_sort.loc[generationData_sort['Efficiency'] < float(0.6)]\n",
    "Source = maintenance_needed['SOURCE_KEY'].unique() \n",
    "for x in Source:\n",
    "    maintenance_updated.loc[maintenance_updated['SOURCE_KEY'] == x,'MAINTENANCE_REQUIRED'] = 'Sim'\n",
    "    df = maintenance_updated.loc[maintenance_updated['SOURCE_KEY'] == x,'MOTIVE']\n",
    "    if df.isnull().values:\n",
    "        maintenance_updated.loc[maintenance_updated['SOURCE_KEY'] == x,'MOTIVE'] = 'Baixa Eficiência'\n",
    "    else:\n",
    "        maintenance_updated.loc[maintenance_updated['SOURCE_KEY'] == x,'MOTIVE'] = df.values + ' e Baixa Eficiência'\n",
    "    \n",
    "maintenance_updated.to_csv(path + 'Generation_Data_Maintenance.csv', index=False)"
   ]
  },
  {
   "cell_type": "code",
   "execution_count": 12,
   "id": "97ec2778",
   "metadata": {},
   "outputs": [],
   "source": [
    "maintenance_required = maintenance_updated.drop(maintenance_updated[maintenance_updated['MAINTENANCE_REQUIRED'] != 'Sim'].index)\n",
    "maintenance_required = maintenance_required.drop(columns = ['MAINTENANCE_REQUIRED', 'GAP_MONTHS']).reset_index()"
   ]
  },
  {
   "cell_type": "code",
   "execution_count": 13,
   "metadata": {},
   "outputs": [
    {
     "data": {
      "text/plain": [
       "''"
      ]
     },
     "execution_count": 13,
     "metadata": {},
     "output_type": "execute_result"
    }
   ],
   "source": [
    "pdf = FPDF()\n",
    "# Set left margin\n",
    "pdf.set_left_margin(0)\n",
    "pdf.add_page()\n",
    "pdf.set_font('Arial', 'B', 14)\n",
    "\n",
    "## Title\n",
    "pdf.cell(0,15,'Conjunto de paineis que precisam de manutenção - ' + date.today().strftime(\"%d/%m/%Y\"), align='C')\n",
    "pdf.ln(20)\n",
    "pdf.set_font('Arial', '', 10)\n",
    "pdf.cell(10)\n",
    "\n",
    "main_req_pdf = maintenance_required.drop(columns = ['index']).reset_index()\n",
    "x = len(main_req_pdf.index)\n",
    "\n",
    "pdf.cell(0,0,'São ao total ' + str(x) + ' painéis que precisam de manutenção, abaixo está a lista com a Source Key e a data da última manutenção' , align='L')\n",
    "pdf.ln(10)\n",
    "\n",
    "spreadsheet_df_to_pdf(pdf, main_req_pdf, 3, 30, True)\n",
    "\n",
    "dataHoje = date.today().strftime(\"%d%m%Y\")\n",
    "\n",
    "if not os.path.exists('Relatorios/Manutencao/Plant' + plant):\n",
    "   os.makedirs('Relatorios/Manutencao/Plant' + plant)\n",
    "pdf.output('Relatorios/Manutencao/Plant'+ plant +'/Conjunto de paineis que precisam de manutenção ' + dataHoje + '.pdf', 'F')"
   ]
  }
 ],
 "metadata": {
  "kernelspec": {
   "display_name": "Python 3 (ipykernel)",
   "language": "python",
   "name": "python3"
  },
  "language_info": {
   "codemirror_mode": {
    "name": "ipython",
    "version": 3
   },
   "file_extension": ".py",
   "mimetype": "text/x-python",
   "name": "python",
   "nbconvert_exporter": "python",
   "pygments_lexer": "ipython3",
   "version": "3.7.11"
  }
 },
 "nbformat": 4,
 "nbformat_minor": 5
}
