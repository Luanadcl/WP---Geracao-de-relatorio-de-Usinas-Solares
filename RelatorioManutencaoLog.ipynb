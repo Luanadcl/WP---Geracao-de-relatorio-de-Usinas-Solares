{
 "cells": [
  {
   "cell_type": "markdown",
   "id": "0fae56f6",
   "metadata": {},
   "source": [
    "# Painel Fotovoltaico\n",
    "### Autora: Luana Dias Costa Lucas <br> Empresa : WP SOLUÇÕES INDUSTRIAIS INTELIGENTES LTDA\n"
   ]
  },
  {
   "cell_type": "markdown",
   "id": "91b3c306",
   "metadata": {},
   "source": [
    "## RELATÓRIO LOG MANUTENÇÃO\n"
   ]
  },
  {
   "cell_type": "markdown",
   "metadata": {},
   "source": [
    "Gera um pdf com o log das manutenções realizadas no painel selecionado"
   ]
  },
  {
   "cell_type": "code",
   "execution_count": 1,
   "id": "839b3f43",
   "metadata": {},
   "outputs": [],
   "source": [
    "#Bibliotecas\n",
    "from ipynb.fs.full.Helper import *\n",
    "from datetime import date\n",
    "from fpdf import FPDF\n",
    "import os\n",
    "import keyboard\n",
    "import pandas as pd\n",
    "import matplotlib.pyplot as plt\n",
    "\n",
    "#maintenance = pd.read_csv('archive/Plant_1_Generation_Data_Maintenance.csv')\n",
    "#maintenanceLog = pd.read_csv('archive/Plant_1_Generation_Data_Maintenance_Log.csv')\n",
    "#plant = '1'"
   ]
  },
  {
   "cell_type": "code",
   "execution_count": 8,
   "metadata": {},
   "outputs": [
    {
     "name": "stdout",
     "output_type": "stream",
     "text": [
      "\n",
      "    Por favor digite 1 ou 2 para escolher uma das 2 centrais solares\n",
      "\n",
      "1\n",
      "entrou\n",
      "archive/Plant_1/\n"
     ]
    },
    {
     "data": {
      "text/html": [
       "<div>\n",
       "<style scoped>\n",
       "    .dataframe tbody tr th:only-of-type {\n",
       "        vertical-align: middle;\n",
       "    }\n",
       "\n",
       "    .dataframe tbody tr th {\n",
       "        vertical-align: top;\n",
       "    }\n",
       "\n",
       "    .dataframe thead th {\n",
       "        text-align: right;\n",
       "    }\n",
       "</style>\n",
       "<table border=\"1\" class=\"dataframe\">\n",
       "  <thead>\n",
       "    <tr style=\"text-align: right;\">\n",
       "      <th></th>\n",
       "      <th>SOURCE_KEY</th>\n",
       "      <th>MAINTENANCE_DAY</th>\n",
       "      <th>WHAT_WAS_DONE</th>\n",
       "      <th>PARTS_EXCHANGED</th>\n",
       "      <th>OBSERVATIONS</th>\n",
       "    </tr>\n",
       "  </thead>\n",
       "  <tbody>\n",
       "    <tr>\n",
       "      <th>0</th>\n",
       "      <td>YxYtjZvoooNbGkE</td>\n",
       "      <td>2023-09-27</td>\n",
       "      <td>teste</td>\n",
       "      <td>Me desculpe pela confusão. No FPDF para calcular</td>\n",
       "      <td>Me desculpe pela confusão. No FPDF para calcul...</td>\n",
       "    </tr>\n",
       "    <tr>\n",
       "      <th>1</th>\n",
       "      <td>YxYtjZvoooNbGkE</td>\n",
       "      <td>2023-09-27</td>\n",
       "      <td>teste</td>\n",
       "      <td>Me desculpe pela confusão. No FPDF para calcular</td>\n",
       "      <td>Me desculpe pela confusão. No FPDF para calcul...</td>\n",
       "    </tr>\n",
       "    <tr>\n",
       "      <th>2</th>\n",
       "      <td>YxYtjZvoooNbGkE</td>\n",
       "      <td>2023-09-27</td>\n",
       "      <td>teste</td>\n",
       "      <td>Me desculpe pela confusão. No FPDF para calcular</td>\n",
       "      <td>Me desculpe pela confusão. No FPDF para calcul...</td>\n",
       "    </tr>\n",
       "    <tr>\n",
       "      <th>3</th>\n",
       "      <td>1BY6WEcLGh8j5v7</td>\n",
       "      <td>2023-09-27</td>\n",
       "      <td>teste</td>\n",
       "      <td>teste1</td>\n",
       "      <td>teste2</td>\n",
       "    </tr>\n",
       "    <tr>\n",
       "      <th>4</th>\n",
       "      <td>1BY6WEcLGh8j5v7</td>\n",
       "      <td>2023-09-27</td>\n",
       "      <td>teste</td>\n",
       "      <td>teste1</td>\n",
       "      <td>teste2teste2teste2teste2teste2teste2teste2test...</td>\n",
       "    </tr>\n",
       "    <tr>\n",
       "      <th>5</th>\n",
       "      <td>1BY6WEcLGh8j5v7</td>\n",
       "      <td>2023-11-26</td>\n",
       "      <td>nj</td>\n",
       "      <td>NaN</td>\n",
       "      <td>NaN</td>\n",
       "    </tr>\n",
       "    <tr>\n",
       "      <th>6</th>\n",
       "      <td>1BY6WEcLGh8j5v7</td>\n",
       "      <td>2023-11-26</td>\n",
       "      <td>k</td>\n",
       "      <td>k</td>\n",
       "      <td>k</td>\n",
       "    </tr>\n",
       "    <tr>\n",
       "      <th>7</th>\n",
       "      <td>1BY6WEcLGh8j5v7</td>\n",
       "      <td>2023-11-26</td>\n",
       "      <td>kjlkj</td>\n",
       "      <td>k</td>\n",
       "      <td>k</td>\n",
       "    </tr>\n",
       "  </tbody>\n",
       "</table>\n",
       "</div>"
      ],
      "text/plain": [
       "        SOURCE_KEY MAINTENANCE_DAY WHAT_WAS_DONE  \\\n",
       "0  YxYtjZvoooNbGkE      2023-09-27         teste   \n",
       "1  YxYtjZvoooNbGkE      2023-09-27         teste   \n",
       "2  YxYtjZvoooNbGkE      2023-09-27         teste   \n",
       "3  1BY6WEcLGh8j5v7      2023-09-27         teste   \n",
       "4  1BY6WEcLGh8j5v7      2023-09-27         teste   \n",
       "5  1BY6WEcLGh8j5v7      2023-11-26            nj   \n",
       "6  1BY6WEcLGh8j5v7      2023-11-26             k   \n",
       "7  1BY6WEcLGh8j5v7      2023-11-26         kjlkj   \n",
       "\n",
       "                                     PARTS_EXCHANGED  \\\n",
       "0  Me desculpe pela confusão. No FPDF para calcular    \n",
       "1  Me desculpe pela confusão. No FPDF para calcular    \n",
       "2  Me desculpe pela confusão. No FPDF para calcular    \n",
       "3                                             teste1   \n",
       "4                                             teste1   \n",
       "5                                                NaN   \n",
       "6                                                  k   \n",
       "7                                                  k   \n",
       "\n",
       "                                        OBSERVATIONS  \n",
       "0  Me desculpe pela confusão. No FPDF para calcul...  \n",
       "1  Me desculpe pela confusão. No FPDF para calcul...  \n",
       "2  Me desculpe pela confusão. No FPDF para calcul...  \n",
       "3                                             teste2  \n",
       "4  teste2teste2teste2teste2teste2teste2teste2test...  \n",
       "5                                                NaN  \n",
       "6                                                  k  \n",
       "7                                                  k  "
      ]
     },
     "execution_count": 8,
     "metadata": {},
     "output_type": "execute_result"
    }
   ],
   "source": [
    "# Escolha da central solar\n",
    "plant = whichPlant()\n",
    "if plant == '1':\n",
    "    path = 'archive/Plant_1/'\n",
    "else:\n",
    "    path = 'archive/Plant_2/'\n",
    "maintenance = pd.read_csv(path + 'Generation_Data_Maintenance.csv')\n",
    "maintenanceLog = pd.read_csv(path + 'Generation_Data_Maintenance_Log.csv')"
   ]
  },
  {
   "cell_type": "code",
   "execution_count": 2,
   "metadata": {},
   "outputs": [
    {
     "name": "stdout",
     "output_type": "stream",
     "text": [
      "\n",
      "        Id não corresponde a um inversor existente.\n",
      "        Insira o Id do inversor ou aperte ESC para sair\n",
      "        \n"
     ]
    }
   ],
   "source": [
    "# Buscar ID paineis\n",
    "text = \"Insira o Id do inversor que você gostaria de ter o log das manutenções: \"\n",
    "helpText = '''\n",
    "            Id não corresponde a um inversor existente.\n",
    "            Insira o Id do inversor ou aperte ESC para sair\n",
    "            '''\n",
    "source_index = id_search(text, helpText, maintenance)"
   ]
  },
  {
   "cell_type": "code",
   "execution_count": 7,
   "metadata": {},
   "outputs": [],
   "source": [
    "def generatePDF(mainLog_Selected, sourceKey):\n",
    "   pdf = FPDF()\n",
    "   # Set left margin\n",
    "   pdf.set_left_margin(0)\n",
    "   pdf.add_page()\n",
    "   pdf.set_font('Arial', 'B', 14)\n",
    "\n",
    "   ## Title\n",
    "   pdf.cell(0,15,'Log de manutenção do painel de Source Key:' + sourceKey, align='C')\n",
    "   pdf.ln(20)\n",
    "\n",
    "   inline_df_to_pdf(pdf, mainLog_Selected)\n",
    "\n",
    "   dateHoje = date.today().strftime(\"%d%m%Y\")\n",
    "\n",
    "   if not os.path.exists('Relatorios/Manutencao Log/Plant' + plant):\n",
    "      os.makedirs('Relatorios/Manutencao Log/Plant' + plant)\n",
    "   pdf.output('Relatorios/Manutencao Log/Plant'+ plant +'/Log de manutencao do painel ' + dataHoje + '.pdf', 'F')\n",
    "   "
   ]
  },
  {
   "cell_type": "code",
   "execution_count": 8,
   "metadata": {},
   "outputs": [],
   "source": [
    "if sourceKey in maintenanceLog['SOURCE_KEY'].values:\n",
    "    mainLog_Selected = maintenanceLog[maintenanceLog['SOURCE_KEY'] == sourceKey]\n",
    "    mainLog_Selected = mainLog_Selected.drop(columns = ['SOURCE_KEY'])\n",
    "    generatePDF(mainLog_Selected, sourceKey)\n",
    "else:\n",
    "    print('''\n",
    "    Não possui log de manutenção para o inversor escolhido.\n",
    "    ''')"
   ]
  }
 ],
 "metadata": {
  "kernelspec": {
   "display_name": "Python 3 (ipykernel)",
   "language": "python",
   "name": "python3"
  },
  "language_info": {
   "codemirror_mode": {
    "name": "ipython",
    "version": 3
   },
   "file_extension": ".py",
   "mimetype": "text/x-python",
   "name": "python",
   "nbconvert_exporter": "python",
   "pygments_lexer": "ipython3",
   "version": "3.7.11"
  }
 },
 "nbformat": 4,
 "nbformat_minor": 5
}
