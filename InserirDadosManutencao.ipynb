{
 "cells": [
  {
   "cell_type": "markdown",
   "id": "0fae56f6",
   "metadata": {},
   "source": [
    "# Painel Fotovoltaico\n",
    "### Autora: Luana Dias Costa Lucas <br> Empresa : WP SOLUÇÕES INDUSTRIAIS INTELIGENTES LTDA\n"
   ]
  },
  {
   "cell_type": "markdown",
   "id": "91b3c306",
   "metadata": {},
   "source": [
    "## INSERIR DADOS MANUTENÇÃO \n"
   ]
  },
  {
   "cell_type": "code",
   "execution_count": 37,
   "id": "839b3f43",
   "metadata": {},
   "outputs": [],
   "source": [
    "#Bibliotecas\n",
    "from ipynb.fs.full.Helper import *\n",
    "from datetime import date, datetime\n",
    "from dateutil.relativedelta import relativedelta\n",
    "import numpy as np\n",
    "import pandas as pd\n",
    "import keyboard\n",
    "\n",
    "#maintenance = pd.read_csv('archive/Plant_1_Generation_Data_Maintenance.csv')\n",
    "#maintenanceLog = pd.read_csv('archive/Plant_1_Generation_Data_Maintenance_Log.csv')\n",
    "#plant = '1'"
   ]
  },
  {
   "cell_type": "code",
   "execution_count": 38,
   "metadata": {},
   "outputs": [
    {
     "name": "stdout",
     "output_type": "stream",
     "text": [
      "\n",
      "    Por favor digite 1 ou 2 para escolher uma das 2 centrais solares\n",
      "    \n"
     ]
    }
   ],
   "source": [
    "# Escolha da central solar\n",
    "plant = whichPlant()\n",
    "        \n",
    "if plant == '1':\n",
    "    path = 'archive/Plant_1/'\n",
    "else:\n",
    "    path = 'archive/Plant_2/'\n",
    "maintenance = pd.read_csv(path + 'Generation_Data_Maintenance.csv')\n",
    "maintenanceLog = pd.read_csv(path + 'Generation_Data_Maintenance_Log.csv')"
   ]
  },
  {
   "cell_type": "code",
   "execution_count": 39,
   "metadata": {},
   "outputs": [],
   "source": [
    "text = \"Insira o Id do inversor que foi realizado a manutenção: \"\n",
    "helpText = '''\n",
    "            Id não corresponde a um inversor existente.\n",
    "            Insira o Id do inversor que foi realizado a manutenção ou aperte ESC para sair\n",
    "            '''\n",
    "source_index = id_search(text, helpText, maintenance)\n",
    "sourceKey = str(maintenance.iloc[source_index]['SOURCE_KEY'].values)[2:-2]\n"
   ]
  },
  {
   "cell_type": "code",
   "execution_count": 40,
   "id": "97f62ebe",
   "metadata": {},
   "outputs": [],
   "source": [
    "text = \"Qual foi a data da manutenção? Inserir no formato AAAA-MM-DD: ou aperte ESC para inserir a data de hoje\"\n",
    "helpText = '''\n",
    "            Data inserida não corresponde ao formato AAAA-MM-DD.\n",
    "            Insira a data no formato correto ou aperte ESC para preencher com a data de hoje\n",
    "            '''\n",
    "data = insert_date(text, helpText)\n",
    "\n",
    "maintenance.loc[source_index, 'LAST_MAINTENANCE'] = data\n",
    "maintenance.to_csv(path + 'Generation_Data_Maintenance.csv', index=False)"
   ]
  },
  {
   "cell_type": "code",
   "execution_count": 41,
   "id": "05d84531",
   "metadata": {},
   "outputs": [
    {
     "name": "stdout",
     "output_type": "stream",
     "text": [
      "O que foi realizado: Substituiição de conectores\n",
      "Parte(s) trocada(s): Conectores\n",
      "Observação: Teste\n",
      "Data de manutenção atualizada\n"
     ]
    }
   ],
   "source": [
    "notFilled = True\n",
    "while notFilled:\n",
    "    whatWasDone = inputText(\"Por favor, escrever o que foi realizado na manutenção.\")\n",
    "    try:\n",
    "        if whatWasDone != '':\n",
    "            notFilled = False\n",
    "            print('O que foi realizado: ' + whatWasDone)\n",
    "        else:\n",
    "            raise ValueError()\n",
    "    except ValueError:\n",
    "        print('''\n",
    "        Por favor insira uma breve descrição da manutenção.\n",
    "        ''')\n",
    "partsExchangeds = inputText(\"Caso tenha sido necessário, informe o nome da peça que foi trocada.\")\n",
    "print('Parte(s) trocada(s): ' + partsExchangeds)\n",
    "obs = inputText(\"Observações sobre a manutenção ou sobre o painel?\")\n",
    "print('Observação: ' + obs)\n",
    "\n",
    "maintenanceLog = maintenanceLog.append(dict(zip(maintenanceLog.columns,[sourceKey,data,whatWasDone,partsExchangeds,obs])), ignore_index=True)\n",
    "maintenanceLog.to_csv(path + 'Generation_Data_Maintenance_Log.csv', index=False)\n",
    "print('Data de manutenção atualizada')"
   ]
  }
 ],
 "metadata": {
  "kernelspec": {
   "display_name": "Python 3 (ipykernel)",
   "language": "python",
   "name": "python3"
  },
  "language_info": {
   "codemirror_mode": {
    "name": "ipython",
    "version": 3
   },
   "file_extension": ".py",
   "mimetype": "text/x-python",
   "name": "python",
   "nbconvert_exporter": "python",
   "pygments_lexer": "ipython3",
   "version": "3.7.11"
  }
 },
 "nbformat": 4,
 "nbformat_minor": 5
}
