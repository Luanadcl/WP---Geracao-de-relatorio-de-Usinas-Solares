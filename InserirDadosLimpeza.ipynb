{
 "cells": [
  {
   "cell_type": "markdown",
   "id": "0fae56f6",
   "metadata": {},
   "source": [
    "# Painel Fotovoltaico\n",
    "### Autora: Luana Dias Costa Lucas <br> Empresa : WP SOLUÇÕES INDUSTRIAIS INTELIGENTES LTDA\n"
   ]
  },
  {
   "cell_type": "markdown",
   "id": "91b3c306",
   "metadata": {},
   "source": [
    "## INSERIR DADOS LIMPEZA"
   ]
  },
  {
   "cell_type": "code",
   "execution_count": 5,
   "id": "839b3f43",
   "metadata": {},
   "outputs": [],
   "source": [
    "#Bibliotecas\n",
    "from ipynb.fs.full.Helper import *\n",
    "from datetime import date,datetime\n",
    "from dateutil.relativedelta import relativedelta\n",
    "import numpy as np\n",
    "import pandas as pd\n",
    "import keyboard\n",
    "\n",
    "#cleaning = pd.read_csv('archive/Plant_1_Generation_Data_Cleaning.csv')\n",
    "#plant = '1' "
   ]
  },
  {
   "cell_type": "code",
   "execution_count": 4,
   "metadata": {},
   "outputs": [
    {
     "name": "stdout",
     "output_type": "stream",
     "text": [
      "\n",
      "        Por favor digite 1 ou 2 para escolher uma das 2 centrais solares\n",
      "    \n"
     ]
    }
   ],
   "source": [
    "# Escolha da central solar\n",
    "plant = whichPlant()       \n",
    "if plant == '1':\n",
    "    path = 'archive/Plant_1/'\n",
    "else:\n",
    "    path = 'archive/Plant_2/'\n",
    "cleaning = pd.read_csv(path + 'Generation_Data_Cleaning.csv')"
   ]
  },
  {
   "cell_type": "code",
   "execution_count": 6,
   "metadata": {},
   "outputs": [
    {
     "name": "stdout",
     "output_type": "stream",
     "text": [
      "\n",
      "            Id não corresponde a um inversor existente.\n",
      "            Insira o Id do inversor que foi realizado a limpeza ou aperte ESC para sair\n",
      "            \n"
     ]
    }
   ],
   "source": [
    "# Id do inversor que foi realizado a limpeza\n",
    "text = \"Insira o Id do inversor que foi realizado a limpeza: \"\n",
    "helpText = '''\n",
    "            Id não corresponde a um inversor existente.\n",
    "            Insira o Id do inversor que foi realizado a limpeza ou aperte ESC para sair\n",
    "            '''\n",
    "source_index = id_search(text, helpText, cleaning)"
   ]
  },
  {
   "cell_type": "code",
   "execution_count": 13,
   "id": "97f62ebe",
   "metadata": {},
   "outputs": [
    {
     "name": "stdout",
     "output_type": "stream",
     "text": [
      "Data de limpeza atualizada\n"
     ]
    }
   ],
   "source": [
    "# Inserir data da limpeza e atualiza o csv\n",
    "text = \"Qual foi a data da limpeza? Inserir no formato AAAA-MM-DD: ou aperte ESC para inserir a data de hoje\"\n",
    "helpText = '''\n",
    "            Data inserida não corresponde ao formato AAAA-MM-DD.\n",
    "            Insira a data no formato correto ou aperte ESC para preencher com a data de hoje\n",
    "            '''\n",
    "data = insert_date(text, helpText)\n",
    "\n",
    "cleaning.loc[source_index, 'LAST_CLEANING'] = data\n",
    "lastCleaning = datetime.strptime(data, '%Y-%m-%d').date()\n",
    "gap = cleaning.iloc[source_index]['GAP_MONTHS']\n",
    "if lastCleaning + relativedelta(months=+6) <= date.today():\n",
    "    cleaning.loc[source_index, 'CLEANING_REQUIRED'] = 'Sim'\n",
    "else:\n",
    "    cleaning.loc[source_index, 'CLEANING_REQUIRED'] = 'Nao'\n",
    "\n",
    "cleaning.to_csv(path + 'Generation_Data_Cleaning.csv', index=False)\n",
    "print('Data de limpeza atualizada')"
   ]
  }
 ],
 "metadata": {
  "kernelspec": {
   "display_name": "Python 3 (ipykernel)",
   "language": "python",
   "name": "python3"
  },
  "language_info": {
   "codemirror_mode": {
    "name": "ipython",
    "version": 3
   },
   "file_extension": ".py",
   "mimetype": "text/x-python",
   "name": "python",
   "nbconvert_exporter": "python",
   "pygments_lexer": "ipython3",
   "version": "3.7.11"
  }
 },
 "nbformat": 4,
 "nbformat_minor": 5
}
