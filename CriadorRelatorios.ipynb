{
 "cells": [
  {
   "cell_type": "markdown",
   "id": "0fae56f6",
   "metadata": {},
   "source": [
    "# Painel Fotovoltaico\n",
    "### Autora: Luana Dias Costa Lucas <br> Empresa : WP SOLUÇÕES INDUSTRIAIS INTELIGENTES LTDA\n"
   ]
  },
  {
   "cell_type": "markdown",
   "id": "91b3c306",
   "metadata": {},
   "source": [
    "## CRIAÇÃO DE UM RELATÓRIO\n",
    "\n",
    "&emsp;Criar um relatório sobre gerador fotovoltaico, em específico sobre quais atributos, variáveis, conseguimos obter e como usá-los para gerar relatórios de analise de desempenho. \n",
    "\n",
    "### Tipos de relatório:\n",
    "\n",
    "<ul>\n",
    "<li>Manutenção</li> \n",
    "    &emsp; Gerar Relatório<br> \n",
    "        &emsp; &emsp; Paineis que precisam de manutenção <br> \n",
    "        &emsp; &emsp; Log de algum painel especifico<br> \n",
    "    &emsp; Inserir Informações<br>\n",
    "<li>Limpeza</li> \n",
    "    &emsp; Gerar Relatório<br> \n",
    "    &emsp; Inserir Informações<br>\n",
    "<li>Previsão</li>"
   ]
  },
  {
   "cell_type": "code",
   "execution_count": 12,
   "id": "b3f837f1",
   "metadata": {},
   "outputs": [],
   "source": [
    "#Bibliotecas\n",
    "from  ipynb.fs.full.Helper import *"
   ]
  },
  {
   "cell_type": "code",
   "execution_count": 18,
   "id": "0c0cdf4a",
   "metadata": {},
   "outputs": [
    {
     "name": "stdout",
     "output_type": "stream",
     "text": [
      "\n",
      "Por favor escolha uma das 4 áreas abaixo :\n",
      "1 - Manutenção\n",
      "2 - Limpeza\n",
      "3 - Previsão\n",
      "\n"
     ]
    }
   ],
   "source": [
    "print('''\n",
    "Por favor escolha uma das 4 áreas abaixo :\n",
    "1 - Manutenção\n",
    "2 - Limpeza\n",
    "3 - Previsão\n",
    "''')\n",
    "\n",
    "notNumber = True\n",
    "while notNumber:\n",
    "    area = inputText(\"Insira o número desejado: \")\n",
    "    try:\n",
    "        val = int(area)\n",
    "        if 1 <= val <=3:\n",
    "            notNumber = False\n",
    "        else:\n",
    "            raise ValueError()\n",
    "    except ValueError:\n",
    "        print(\"Por favor inserir um número entre 1 e 4\")\n"
   ]
  },
  {
   "cell_type": "code",
   "execution_count": 19,
   "id": "034cd881",
   "metadata": {},
   "outputs": [
    {
     "name": "stdout",
     "output_type": "stream",
     "text": [
      "Será gerado um relatório referente a área escolhida\n",
      "\n",
      "    Por favor digite 1 ou 2 para escolher uma das 2 centrais solares\n",
      "\n",
      "Relatório de previsão gerado com sucesso!\n"
     ]
    },
    {
     "name": "stderr",
     "output_type": "stream",
     "text": [
      "FutureWarning: Dropping of nuisance columns in DataFrame reductions (with 'numeric_only=None') is deprecated; in a future version this will raise TypeError.  Select only valid columns before calling the reduction.\n",
      "FutureWarning: Dropping of nuisance columns in DataFrame reductions (with 'numeric_only=None') is deprecated; in a future version this will raise TypeError.  Select only valid columns before calling the reduction.\n",
      "FutureWarning: Dropping of nuisance columns in DataFrame reductions (with 'numeric_only=None') is deprecated; in a future version this will raise TypeError.  Select only valid columns before calling the reduction.\n",
      "FutureWarning: Dropping of nuisance columns in DataFrame reductions (with 'numeric_only=None') is deprecated; in a future version this will raise TypeError.  Select only valid columns before calling the reduction.\n",
      "FutureWarning: Dropping of nuisance columns in DataFrame reductions (with 'numeric_only=None') is deprecated; in a future version this will raise TypeError.  Select only valid columns before calling the reduction.\n",
      "FutureWarning: Dropping of nuisance columns in DataFrame reductions (with 'numeric_only=None') is deprecated; in a future version this will raise TypeError.  Select only valid columns before calling the reduction.\n"
     ]
    }
   ],
   "source": [
    "def generateOrInput(areaEscolhida):\n",
    "    print('''\n",
    "    Para a área de ''' + areaEscolhida + ''' você gostaria de :\n",
    "    1 - Gerar um relatório\n",
    "    2 - Inserir dados\n",
    "    ''')\n",
    "    hold = True\n",
    "    while hold:\n",
    "        anwser1 = inputText(\"Insira o número desejado: \")\n",
    "        try:\n",
    "            val = int(anwser1)\n",
    "            if 1 <= val <=2:\n",
    "                hold = False\n",
    "                return anwser1\n",
    "            else:\n",
    "                raise ValueError()\n",
    "        except ValueError:\n",
    "            print(\"Por favor inserir 1 ou 2\")    \n",
    "\n",
    "def manutencao():\n",
    "    print('''\n",
    "    Gerar qual tipo de relatório :\n",
    "    1 - Paineis que precisam de manutenção\n",
    "    2 - Log de manutenções em um painel específico\n",
    "    ''')\n",
    "    hold = True\n",
    "    while hold:\n",
    "        anwser2 = inputText(\"Insira o número desejado: \")\n",
    "        try:\n",
    "            val = int(anwser2)\n",
    "            if 1 <= val <=2:\n",
    "                hold = False\n",
    "                return anwser2\n",
    "            else:\n",
    "                raise ValueError()\n",
    "        except ValueError:\n",
    "            print(\"Por favor inserir 1 ou 2\") \n",
    "\n",
    "if area == '1':\n",
    "    anwser1 = generateOrInput(\"Manutenção\")\n",
    "    if anwser1 == '1':\n",
    "        anwser2 = manutencao()\n",
    "        if anwser2 == '1':\n",
    "            %run ./RelatorioManutencao.ipynb\n",
    "        if anwser2 == '2':    \n",
    "            %run ./RelatorioManutencaoLog.ipynb\n",
    "    if anwser1 == '2':\n",
    "        %run ./InserirDadosManutencao.ipynb\n",
    "if area == '2':\n",
    "    anwser1 = generateOrInput(\"Limpeza\")\n",
    "    if anwser1 == '1':\n",
    "        %run ./RelatorioLimpeza.ipynb\n",
    "    if anwser1 == '2':\n",
    "        %run ./InserirDadosLimpeza.ipynb\n",
    "if area == '3':\n",
    "    print(\"Será gerado um relatório referente a área escolhida\")\n",
    "    %run ./RelatorioPrevisao.ipynb\n",
    "if area == '4' :\n",
    "    print(\"Será gerado um relatório referente a área escolhida\")\n",
    "    %run ./RelatorioGerenciamento.ipynb\n"
   ]
  }
 ],
 "metadata": {
  "kernelspec": {
   "display_name": "Python 3 (ipykernel)",
   "language": "python",
   "name": "python3"
  },
  "language_info": {
   "codemirror_mode": {
    "name": "ipython",
    "version": 3
   },
   "file_extension": ".py",
   "mimetype": "text/x-python",
   "name": "python",
   "nbconvert_exporter": "python",
   "pygments_lexer": "ipython3",
   "version": "3.7.11"
  }
 },
 "nbformat": 4,
 "nbformat_minor": 5
}
