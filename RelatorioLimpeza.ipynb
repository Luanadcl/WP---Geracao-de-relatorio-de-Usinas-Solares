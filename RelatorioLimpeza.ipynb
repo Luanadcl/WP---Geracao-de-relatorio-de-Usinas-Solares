{
 "cells": [
  {
   "cell_type": "markdown",
   "id": "0fae56f6",
   "metadata": {},
   "source": [
    "# Painel Fotovoltaico\n",
    "### Autora: Luana Dias Costa Lucas <br> Empresa : WP SOLUÇÕES INDUSTRIAIS INTELIGENTES LTDA\n"
   ]
  },
  {
   "cell_type": "markdown",
   "id": "91b3c306",
   "metadata": {},
   "source": [
    "## RELATÓRIO LIMPEZA\n",
    "\n",
    "Será considerado que cada inversor é responsável por um conjunto de paineis, e pelo id dos inversores conseguimos saber quando que os paineis foram limpos \n",
    "\n",
    "São duas variaveis a serem considerada, se a ultima limpeza foi a mais tempo do que o recomendado (6 meses), ou se choveu mais do que 600mm de chuva entre o periodo da ultima limpeza e a data atual"
   ]
  },
  {
   "cell_type": "code",
   "execution_count": 2,
   "id": "839b3f43",
   "metadata": {},
   "outputs": [],
   "source": [
    "#Bibliotecas\n",
    "from ipynb.fs.full.Helper import *\n",
    "from datetime import date, datetime, time\n",
    "from dateutil.relativedelta import relativedelta\n",
    "from fpdf import FPDF\n",
    "import pandas as pd\n",
    "import os\n",
    "\n",
    "#cleaning = pd.read_csv('archive/Plant_1_Generation_Data_Cleaning.csv') \n",
    "#plant = '1'"
   ]
  },
  {
   "cell_type": "code",
   "execution_count": null,
   "metadata": {},
   "outputs": [],
   "source": [
    "# Escolha da central solar\n",
    "plant = whichPlant()        \n",
    "if plant == '1':\n",
    "    path = 'archive/Plant_1/'\n",
    "else:\n",
    "    path = 'archive/Plant_2/'\n",
    "cleaning = pd.read_csv(path + 'Generation_Data_Cleaning.csv')"
   ]
  },
  {
   "cell_type": "code",
   "execution_count": 3,
   "metadata": {},
   "outputs": [],
   "source": [
    "# Analisa a necessidade de limpeza por inversor de acordo com a data da ultima e da quantidade de chuva que caiu durante o periodo entre a ultima limpeza e a data de hoje\n",
    "cleaning_updated = cleaning.sort_values(by=['LAST_CLEANING']).reset_index().drop(columns = ['index'])\n",
    "x = len(cleaning_updated.index)\n",
    "dataLastCleaning = datetime.today()\n",
    "today = datetime.today()\n",
    "\n",
    "for i in range(x):\n",
    "    lastCleaning = datetime.strptime(cleaning_updated['LAST_CLEANING'][i], '%Y-%m-%d').date()\n",
    "    gap = cleaning_updated['GAP_MONTHS'][i]\n",
    "    if lastCleaning + relativedelta(months=+gap) <= date.today():\n",
    "        cleaning_updated.loc[i, 'CLEANING_REQUIRED'] = 'Sim'\n",
    "    else:\n",
    "        if dataLastCleaning != datetime.combine(lastCleaning, time(0,0,0)):\n",
    "            dataLastCleaning = datetime.combine(lastCleaning, time(0,0,0))\n",
    "            amountRain = fetchWeatherData(dataLastCleaning, today, -27.58818240596342, -48.56317149277192, 'prcp')\n",
    "        # Tendo que a quantidade de 600mm de chuva caida durante o periodo seja o suficiente para precisar limpar\n",
    "        if amountRain >= 600:\n",
    "            cleaning_updated.loc[i, 'CLEANING_REQUIRED'] = 'Sim'\n",
    "        else:\n",
    "            cleaning_updated.loc[i, 'CLEANING_REQUIRED'] = 'Nao'\n",
    "\n",
    "cleaning_updated.to_csv(path + 'Generation_Data_Cleaning.csv', index=False)\n"
   ]
  },
  {
   "cell_type": "code",
   "execution_count": 43,
   "metadata": {},
   "outputs": [],
   "source": [
    "cleaning_required = cleaning_updated.drop(cleaning_updated[cleaning_updated['CLEANING_REQUIRED'] != 'Sim'].index)\n",
    "cleaning_required = cleaning_required.drop(columns = ['CLEANING_REQUIRED', 'GAP_MONTHS']).reset_index()"
   ]
  },
  {
   "cell_type": "code",
   "execution_count": 44,
   "metadata": {},
   "outputs": [
    {
     "data": {
      "text/plain": [
       "''"
      ]
     },
     "execution_count": 44,
     "metadata": {},
     "output_type": "execute_result"
    }
   ],
   "source": [
    "pdf = FPDF()\n",
    "# Set left margin\n",
    "pdf.set_left_margin(0)\n",
    "pdf.add_page()\n",
    "pdf.set_font('Arial', 'B', 14)\n",
    "\n",
    "## Title\n",
    "pdf.cell(0,15,'Conjunto de paineis que precisam de limpeza - ' + date.today().strftime(\"%d/%m/%Y\"), align='C')\n",
    "pdf.ln(20)\n",
    "pdf.set_font('Arial', '', 10)\n",
    "pdf.cell(10)\n",
    "\n",
    "cleaning_req_pdf = cleaning_required.drop(columns = ['index']).reset_index()\n",
    "x = len(cleaning_req_pdf.index)\n",
    "\n",
    "pdf.cell(0,0,'São ao total ' + str(x) + ' painéis que precisam de limpeza, abaixo está a lista com a Source Key e a data da última limpeza' , align='L')\n",
    "pdf.ln(10)\n",
    "\n",
    "spreadsheet_df_to_pdf(pdf, cleaning_req_pdf, 2, 40, True)\n",
    "\n",
    "dataHoje = date.today().strftime(\"%d%m%Y\")\n",
    "\n",
    "if not os.path.exists('Relatorios/Limpeza/Plant' + plant):\n",
    "   os.makedirs('Relatorios/Limpeza/Plant' + plant)\n",
    "\n",
    "pdf.output('Relatorios/Limpeza/Plant' + plant + '/Conjunto de paineis que precisam de limpeza ' + dataHoje + '.pdf', 'F')\n"
   ]
  }
 ],
 "metadata": {
  "kernelspec": {
   "display_name": "Python 3 (ipykernel)",
   "language": "python",
   "name": "python3"
  },
  "language_info": {
   "codemirror_mode": {
    "name": "ipython",
    "version": 3
   },
   "file_extension": ".py",
   "mimetype": "text/x-python",
   "name": "python",
   "nbconvert_exporter": "python",
   "pygments_lexer": "ipython3",
   "version": "3.7.11"
  }
 },
 "nbformat": 4,
 "nbformat_minor": 5
}
